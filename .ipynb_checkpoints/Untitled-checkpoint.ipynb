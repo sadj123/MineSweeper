{
 "cells": [
  {
   "cell_type": "code",
   "execution_count": 1,
   "id": "acc4da76",
   "metadata": {},
   "outputs": [],
   "source": [
    "from buscaminas import *\n",
    "from agentes import *\n",
    "import random as rd\n",
    "import time\n",
    "from IPython.display import clear_output\n",
    "%matplotlib inline"
   ]
  },
  {
   "cell_type": "markdown",
   "id": "0628e21e",
   "metadata": {},
   "source": [
    "## Letras proposicionales  \n",
    "Las letras proposicionales que utilizaremos para la resolver el buscaminas son: \n",
    "* *bandera(x,y)* si hay un bandera en la casilla\n",
    "* *segura(x,y) si no hay bandera en la casilla*\n",
    "* *uno(x,y)* si hay una mina adyacente a la casilla (x,y)\n"
   ]
  },
  {
   "cell_type": "markdown",
   "id": "730abcba",
   "metadata": {},
   "source": [
    "### Reglas proposicionales\n",
    "* uno en casilla (x,y) y bandera en (x',y') entonces todas las adyacentes son seguras menos (x',y')"
   ]
  },
  {
   "cell_type": "code",
   "execution_count": 1,
   "id": "aee52dcb",
   "metadata": {},
   "outputs": [
    {
     "ename": "NameError",
     "evalue": "name 'Buscaminas' is not defined",
     "output_type": "error",
     "traceback": [
      "\u001b[1;31m---------------------------------------------------------------------------\u001b[0m",
      "\u001b[1;31mNameError\u001b[0m                                 Traceback (most recent call last)",
      "\u001b[1;32m~\\AppData\\Local\\Temp\\ipykernel_9372\\2591001031.py\u001b[0m in \u001b[0;36m<module>\u001b[1;34m\u001b[0m\n\u001b[0;32m      2\u001b[0m \u001b[0mwidth\u001b[0m\u001b[1;33m=\u001b[0m\u001b[1;36m5\u001b[0m\u001b[1;33m\u001b[0m\u001b[1;33m\u001b[0m\u001b[0m\n\u001b[0;32m      3\u001b[0m \u001b[0mmines\u001b[0m\u001b[1;33m=\u001b[0m\u001b[1;36m5\u001b[0m\u001b[1;33m\u001b[0m\u001b[1;33m\u001b[0m\u001b[0m\n\u001b[1;32m----> 4\u001b[1;33m \u001b[0mjuego\u001b[0m \u001b[1;33m=\u001b[0m \u001b[0mBuscaminas\u001b[0m\u001b[1;33m(\u001b[0m\u001b[0mheight\u001b[0m\u001b[1;33m,\u001b[0m \u001b[0mwidth\u001b[0m\u001b[1;33m,\u001b[0m \u001b[0mmines\u001b[0m\u001b[1;33m)\u001b[0m\u001b[1;33m\u001b[0m\u001b[1;33m\u001b[0m\u001b[0m\n\u001b[0m\u001b[0;32m      5\u001b[0m \u001b[0mjuego\u001b[0m\u001b[1;33m.\u001b[0m\u001b[0mpintar_casilla\u001b[0m\u001b[1;33m(\u001b[0m\u001b[1;33m)\u001b[0m\u001b[1;33m\u001b[0m\u001b[1;33m\u001b[0m\u001b[0m\n",
      "\u001b[1;31mNameError\u001b[0m: name 'Buscaminas' is not defined"
     ]
    }
   ],
   "source": [
    "height=5\n",
    "width=5\n",
    "mines=5\n",
    "juego = Buscaminas(height, width, mines)\n",
    "juego.pintar_casilla()"
   ]
  },
  {
   "cell_type": "code",
   "execution_count": 3,
   "id": "228cf0ee",
   "metadata": {},
   "outputs": [
    {
     "data": {
      "text/plain": [
       "<Axes:>"
      ]
     },
     "execution_count": 3,
     "metadata": {},
     "output_type": "execute_result"
    },
    {
     "data": {
      "image/png": "[encoded data removed]",
      "text/plain": [
       "<Figure size 168x168 with 1 Axes>"
      ]
     },
     "metadata": {},
     "output_type": "display_data"
    }
   ],
   "source": [
    "juego.transicion([0, 0])\n",
    "juego.pintar_casilla()"
   ]
  },
  {
   "cell_type": "code",
   "execution_count": 2,
   "id": "4dd184e0",
   "metadata": {},
   "outputs": [],
   "source": [
    "def casillas_seguras(self):\n",
    "    size=self.size\n",
    "    formulas=[]\n",
    "    casillas=[(x, y) for x in range(size) for y in range(size)]\n",
    "    for cas in casillas:\n",
    "        casillas_ad = adyacentes(cas, size)\n",
    "        x, y = cas\n",
    "        for c in casillas_ad:\n",
    "            x1, y1=c\n",
    "            aux=\"\"\n",
    "            dif= [p for p in casillas_ad if p!=c]\n",
    "            for c1 in dif:\n",
    "                x2, y2=c1\n",
    "                formulas+=[f'uno({x},{y})Ybandera({x1},{y1})>segura({x2},{y2})']\n",
    "    \n",
    "    \n",
    "    return formulas"
   ]
  },
  {
   "cell_type": "code",
   "execution_count": 3,
   "id": "8a638b55",
   "metadata": {},
   "outputs": [],
   "source": [
    "def casillas_seguras2(self):\n",
    "    size=self.size\n",
    "    formulas=[]\n",
    "    casillas=[(x, y) for x in range(size) for y in range(size)]\n",
    "    for cas in casillas:\n",
    "        casillas_ad = adyacentes(cas, size)\n",
    "        x, y = cas\n",
    "        rep=[]\n",
    "        for cband in casillas_ad:\n",
    "            x1, y1=cband\n",
    "            dif= [p for p in casillas_ad if p!=cband]\n",
    "            for cband2 in dif:\n",
    "                if (cband, cband2) not in rep and (cband2, cband) not in rep:\n",
    "                    rep.append((cband, cband2))\n",
    "                    x2, y2=cband2\n",
    "                    dif2= [p for p in casillas_ad if p!=cband and p!=cband2]\n",
    "                    for cseg in dif2:\n",
    "                        xs, ys=cseg\n",
    "                        formulas+=[f'dos({x},{y})Ybandera({x1},{y1})Ybandera({x2},{y2})>segura({xs},{ys})']\n",
    "                else:\n",
    "                    continue\n",
    "    \n",
    "    return formulas"
   ]
  },
  {
   "cell_type": "code",
   "execution_count": 4,
   "id": "a09b1ffa",
   "metadata": {},
   "outputs": [],
   "source": [
    "def marcar_banderita(self):\n",
    "    size=self.size\n",
    "    formulas=[]\n",
    "    casillas=[(x, y) for x in range(size) for y in range(size)]\n",
    "    for cas in casillas:\n",
    "        casillas_ad = adyacentes(cas, size)\n",
    "        x, y = cas\n",
    "        \n",
    "        for c in casillas_ad:\n",
    "            x1, y1=c\n",
    "            aux=\"\"\n",
    "            dif= [p for p in casillas_ad if p!=c]\n",
    "            for c1 in dif:\n",
    "                x2, y2=c1\n",
    "\n",
    "                aux+= f'Ysegura({x2},{y2})'\n",
    "\n",
    "\n",
    "            formulas+=[f'uno({x},{y})'+aux+f'>bandera({x1},{y1})']\n",
    "    \n",
    "    \n",
    "    return formulas"
   ]
  },
  {
   "cell_type": "code",
   "execution_count": 5,
   "id": "4109a6c9",
   "metadata": {},
   "outputs": [],
   "source": [
    "def marcar_banderita2(self):\n",
    "    size=self.size\n",
    "    formulas=[]\n",
    "    casillas=[(x, y) for x in range(size) for y in range(size)]\n",
    "    for cas in casillas:\n",
    "        casillas_ad = adyacentes(cas, size)\n",
    "        x, y = cas\n",
    "        rep=[]\n",
    "        for cband in casillas_ad:\n",
    "            x1, y1=cband\n",
    "            dif= [p for p in casillas_ad if p!=cband]\n",
    "            for cband2 in dif:\n",
    "                if (cband, cband2) not in rep and (cband2, cband) not in rep:\n",
    "                    rep.append((cband, cband2))\n",
    "                    x2, y2= cband2\n",
    "                    dif2= [p for p in casillas_ad if p!=cband and p!= cband2]\n",
    "                    aux=\"\"\n",
    "                    for cseg in dif2:\n",
    "                        xs, ys= cseg\n",
    "                        aux+=f\"Ysegura({xs},{ys})\"\n",
    "                    formulas+=[f'dos({x},{y})Ybandera({x1},{y1})'+aux+f'>bandera({x2},{y2})']\n",
    "                else: continue\n",
    "                \n",
    "    \n",
    "    \n",
    "    return formulas"
   ]
  },
  {
   "cell_type": "code",
   "execution_count": 6,
   "id": "4dc24711",
   "metadata": {
    "scrolled": true
   },
   "outputs": [],
   "source": [
    "setattr(Agente, 'marcar_banderita', marcar_banderita)\n",
    "setattr(Agente, 'casillas_seguras', casillas_seguras)\n",
    "#setattr(Agente, 'marcar_banderita2', marcar_banderita2)\n",
    "#setattr(Agente, 'casillas_seguras2', casillas_seguras2)"
   ]
  },
  {
   "cell_type": "code",
   "execution_count": 7,
   "id": "31665cc8",
   "metadata": {},
   "outputs": [],
   "source": [
    "def juega(juego):\n",
    "    setattr(Agente, 'size', width)\n",
    "    agente = Agente()\n",
    "    formulas = agente.casillas_seguras()\n",
    "    formulas += agente.marcar_banderita()\n",
    "    #formulas += agente.marcar_banderita2()\n",
    "    #formulas += agente.casillas_seguras2()\n",
    "\n",
    "    xi, yi=(rd.randint(0, agente.size-1), rd.randint(0, agente.size-1))\n",
    "    juego.transicion([xi, yi])\n",
    "    print(f\"Inicia con: ({xi}, {yi})\")\n",
    "    initi=[]\n",
    "    initi2=[]\n",
    "    #initi3=[]\n",
    "    for casilla in juego.casillas:\n",
    "        x, y= casilla\n",
    "        if juego.tablero[x][y].seleccionado:\n",
    "            initi2.append(casilla)\n",
    "            if juego.tablero[x][y].valor ==1:\n",
    "                initi.append(casilla)\n",
    "            #elif juego.tablero[x][y].valor ==2:\n",
    "                #initi3.append(casilla)\n",
    "\n",
    "    for casilla in initi:\n",
    "        x, y=casilla\n",
    "        formulas+=[f'uno({x},{y})']\n",
    "    for casilla in initi2:\n",
    "        x, y=casilla\n",
    "        formulas+=[f'segura({x},{y})']\n",
    "    #for casilla in initi3:\n",
    "       # x, y=casilla\n",
    "        #formulas+=[f'dos({x},{y})']\n",
    "\n",
    "    agente.base = LPQuery(formulas)\n",
    "    \n",
    "    juego.pintar_casilla()\n",
    "    action=True\n",
    "    while juego.juego_activo and action==True:\n",
    "        action=False\n",
    "        for casilla in juego.casillas:\n",
    "            #clear_output(wait=True)\n",
    "            x, y = casilla\n",
    "            print(f\"Mirando casilla: ({x},{y})\")\n",
    "            objetivo=f'bandera({x},{y})'\n",
    "            res = ASK(objetivo, 'success', agente.base)\n",
    "            if res:\n",
    "                print(\"Casilla es bandera\")\n",
    "                if juego.flags[x][y]:\n",
    "                    continue\n",
    "                else:\n",
    "                    \n",
    "                    juego.agregar_quitar_bandera([x, y])\n",
    "                    action =True\n",
    "                    if not juego.juego_activo:\n",
    "                        break\n",
    "                    agente.base.TELL(f'bandera({x},{y})')\n",
    "                    juego.pintar_casilla()\n",
    "                    plt.show()\n",
    "                    time.sleep(1)\n",
    "            objetivo=f'segura({x},{y})'\n",
    "            res = ASK(objetivo, 'success', agente.base)\n",
    "\n",
    "            if res:\n",
    "                print(\"Casilla es segura\")\n",
    "                if juego.tablero[x][y].seleccionado:\n",
    "                    continue\n",
    "                else:\n",
    "                    print(f\"Hacemos click en: {x}, {y}\")\n",
    "                    juego.transicion([x, y])\n",
    "                    if not juego.juego_activo:\n",
    "                        break\n",
    "                    \n",
    "                \n",
    "                    for casilla2 in juego.casillas:\n",
    "                        x2, y2= casilla2\n",
    "                        if juego.tablero[x2][y2].seleccionado:\n",
    "                            if juego.tablero[x2][y2].valor ==1:\n",
    "                                agente.base.TELL(f'uno({x2},{y2})')\n",
    "                            #elif juego.tablero[x2][y2].valor ==2:\n",
    "                                #agente.base.TELL(f'dos({x2},{y2})')\n",
    "\n",
    "        \n",
    "                    action =True\n",
    "                    agente.base.TELL(f'segura({x},{y})')\n",
    "                    juego.pintar_casilla()\n",
    "                    plt.show()\n",
    "                    time.sleep(1)"
   ]
  },
  {
   "cell_type": "code",
   "execution_count": 10,
   "id": "d72fcbe5",
   "metadata": {},
   "outputs": [],
   "source": [
    "def prom(height, width, mines):\n",
    "   \n",
    "    su=0\n",
    "    for i in range(10):\n",
    "        juego = Buscaminas(height, width, mines)\n",
    "        setattr(Agente, 'size', width)\n",
    "    \n",
    "        agente = Agente()\n",
    "        formulas = agente.casillas_seguras()\n",
    "        formulas += agente.marcar_banderita()\n",
    "        #formulas += agente.marcar_banderita2()\n",
    "        #formulas += agente.casillas_seguras2()\n",
    "\n",
    "        xi, yi=(rd.randint(0, agente.size-1), rd.randint(0, agente.size-1))\n",
    "        juego.transicion([xi, yi])\n",
    "        initi=[]\n",
    "        initi2=[]\n",
    "        #initi3=[]\n",
    "        for casilla in juego.casillas:\n",
    "            x, y= casilla\n",
    "            if juego.tablero[x][y].seleccionado:\n",
    "                initi2.append(casilla)\n",
    "                if juego.tablero[x][y].valor ==1:\n",
    "                    initi.append(casilla)\n",
    "                #elif juego.tablero[x][y].valor ==2:\n",
    "                    #initi3.append(casilla)\n",
    "\n",
    "        for casilla in initi:\n",
    "            x, y=casilla\n",
    "            formulas+=[f'uno({x},{y})']\n",
    "        for casilla in initi2:\n",
    "            x, y=casilla\n",
    "            formulas+=[f'segura({x},{y})']\n",
    "        #for casilla in initi3:\n",
    "           # x, y=casilla\n",
    "            #formulas+=[f'dos({x},{y})']\n",
    "\n",
    "        agente.base = LPQuery(formulas)\n",
    "        print(len(formulas))\n",
    "        action=True\n",
    "        while juego.juego_activo and action==True:\n",
    "            action=False\n",
    "            for casilla in juego.casillas:\n",
    "                #clear_output(wait=True)\n",
    "                x, y = casilla\n",
    "                objetivo=f'bandera({x},{y})'\n",
    "                res = ASK(objetivo, 'success', agente.base)\n",
    "                if res:\n",
    "                    if juego.flags[x][y]:\n",
    "                        continue\n",
    "                    else:\n",
    "                        juego.agregar_quitar_bandera([x, y])\n",
    "                        action =True\n",
    "                        if not juego.juego_activo:\n",
    "                            break\n",
    "                        agente.base.TELL(f'bandera({x},{y})')\n",
    "                objetivo=f'segura({x},{y})'\n",
    "                res = ASK(objetivo, 'success', agente.base)\n",
    "\n",
    "                if res:\n",
    "                    if juego.tablero[x][y].seleccionado:\n",
    "                        continue\n",
    "                    else:\n",
    "                        \n",
    "                        juego.transicion([x, y])\n",
    "                        if not juego.juego_activo:\n",
    "                            break\n",
    "\n",
    "\n",
    "                        for casilla2 in juego.casillas:\n",
    "                            x2, y2= casilla2\n",
    "                            if juego.tablero[x2][y2].seleccionado:\n",
    "                                if juego.tablero[x2][y2].valor ==1:\n",
    "                                    agente.base.TELL(f'uno({x2},{y2})')\n",
    "                                #elif juego.tablero[x2][y2].valor ==2:\n",
    "                                    #agente.base.TELL(f'dos({x2},{y2})')\n",
    "\n",
    "\n",
    "                        action =True\n",
    "                        agente.base.TELL(f'segura({x},{y})')\n",
    "        \n",
    "        if juego.win:\n",
    "            print(f\"Juego {i} ganó\")\n",
    "            su+=1\n",
    "        else:\n",
    "            print(f\"Juego {i} perdió\")\n",
    "    print(\"Juegos ganados: \", su)\n",
    "    return (su/10)*100\n"
   ]
  },
  {
   "cell_type": "code",
   "execution_count": null,
   "id": "3b753287",
   "metadata": {
    "scrolled": true
   },
   "outputs": [],
   "source": [
    "height=8\n",
    "width=8\n",
    "mines=2\n",
    "juego = Buscaminas(height, width, mines)\n",
    "g=juega(juego)"
   ]
  },
  {
   "cell_type": "code",
   "execution_count": 11,
   "id": "8a1514e2",
   "metadata": {},
   "outputs": [
    {
     "name": "stdout",
     "output_type": "stream",
     "text": [
      "939\n",
      "Juego 0 perdió\n",
      "937\n",
      "Juego 1 perdió\n",
      "936\n",
      "Juego 2 ganó\n",
      "914\n",
      "Juego 3 perdió\n",
      "913\n",
      "Juego 4 perdió\n",
      "913\n",
      "Juego 5 perdió\n",
      "913\n",
      "Juego 6 perdió\n",
      "937\n",
      "Juego 7 ganó\n",
      "914\n",
      "Juego 8 perdió\n",
      "937\n",
      "Juego 9 perdió\n",
      "Juegos ganados:  2\n",
      "El porcentaje fue:  20.0 %\n"
     ]
    },
    {
     "data": {
      "image/png": "[encoded data removed]",
      "text/plain": [
       "<Figure size 168x168 with 1 Axes>"
      ]
     },
     "metadata": {},
     "output_type": "display_data"
    },
    {
     "data": {
      "image/png": "[encoded data removed]",
      "text/plain": [
       "<Figure size 168x168 with 1 Axes>"
      ]
     },
     "metadata": {},
     "output_type": "display_data"
    },
    {
     "data": {
      "image/png": "[encoded data removed]",
      "text/plain": [
       "<Figure size 168x168 with 1 Axes>"
      ]
     },
     "metadata": {},
     "output_type": "display_data"
    },
    {
     "data": {
      "image/png": "[encoded data removed]",
      "text/plain": [
       "<Figure size 168x168 with 1 Axes>"
      ]
     },
     "metadata": {},
     "output_type": "display_data"
    }
   ],
   "source": [
    "height=5\n",
    "width=5\n",
    "mines=2\n",
    "print(\"El porcentaje fue: \", prom(height, width, mines),\"%\")"
   ]
  },
  {
   "cell_type": "code",
   "execution_count": null,
   "id": "674d166f",
   "metadata": {},
   "outputs": [],
   "source": []
  }
 ],
 "metadata": {
  "kernelspec": {
   "display_name": "Python 3 (ipykernel)",
   "language": "python",
   "name": "python3"
  },
  "language_info": {
   "codemirror_mode": {
    "name": "ipython",
    "version": 3
   },
   "file_extension": ".py",
   "mimetype": "text/x-python",
   "name": "python",
   "nbconvert_exporter": "python",
   "pygments_lexer": "ipython3",
   "version": "3.7.13"
  }
 },
 "nbformat": 4,
 "nbformat_minor": 5
}
