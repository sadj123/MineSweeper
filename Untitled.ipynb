{
 "cells": [
  {
   "cell_type": "code",
   "execution_count": 159,
   "id": "acc4da76",
   "metadata": {},
   "outputs": [],
   "source": [
    "from buscaminas import *\n",
    "from agentes import *\n",
    "import random as rd\n",
    "import time\n",
    "from IPython.display import clear_output\n",
    "%matplotlib inline"
   ]
  },
  {
   "cell_type": "markdown",
   "id": "0628e21e",
   "metadata": {},
   "source": [
    "## Letras proposicionales  \n",
    "Las letras proposicionales que utilizaremos para la resolver el buscaminas son: \n",
    "* *bandera(x,y)* si hay un bandera en la casilla\n",
    "* *segura(x,y) si no hay bandera en la casilla*\n",
    "* *uno(x,y)* si hay una mina adyacente a la casilla (x,y)\n"
   ]
  },
  {
   "cell_type": "markdown",
   "id": "730abcba",
   "metadata": {},
   "source": [
    "### Reglas proposicionales\n",
    "* uno en casilla (x,y) y bandera en (x',y') entonces todas las adyacentes son seguras menos (x',y')"
   ]
  },
  {
   "cell_type": "code",
   "execution_count": 128,
   "id": "aee52dcb",
   "metadata": {},
   "outputs": [
    {
     "data": {
      "text/plain": [
       "<Axes:>"
      ]
     },
     "execution_count": 128,
     "metadata": {},
     "output_type": "execute_result"
    },
    {
     "data": {
      "image/png": "[encoded data removed]",
      "text/plain": [
       "<Figure size 168x168 with 1 Axes>"
      ]
     },
     "metadata": {},
     "output_type": "display_data"
    }
   ],
   "source": [
    "height=5\n",
    "width=5\n",
    "mines=5\n",
    "juego = Buscaminas(height, width, mines)\n",
    "juego.pintar_casilla()"
   ]
  },
  {
   "cell_type": "code",
   "execution_count": 132,
   "id": "228cf0ee",
   "metadata": {},
   "outputs": [
    {
     "data": {
      "text/plain": [
       "<Axes:>"
      ]
     },
     "execution_count": 132,
     "metadata": {},
     "output_type": "execute_result"
    },
    {
     "data": {
      "image/png": "[encoded data removed]",
      "text/plain": [
       "<Figure size 168x168 with 1 Axes>"
      ]
     },
     "metadata": {},
     "output_type": "display_data"
    }
   ],
   "source": [
    "juego.transicion([0, 0])\n",
    "juego.pintar_casilla()"
   ]
  },
  {
   "cell_type": "code",
   "execution_count": 271,
   "id": "886a2b15",
   "metadata": {},
   "outputs": [],
   "source": [
    "def casillas_seguras(self):\n",
    "    size=self.size\n",
    "    formulas=[]\n",
    "    casillas=[(x, y) for x in range(size) for y in range(size)]\n",
    "    for cas in casillas:\n",
    "        casillas_ad = adyacentes(cas, size)\n",
    "        x, y = cas\n",
    "        for c in casillas_ad:\n",
    "            x1, y1=c\n",
    "            aux=\"\"\n",
    "            dif= [p for p in casillas_ad if p!=c]\n",
    "            for c1 in dif:\n",
    "                x2, y2=c1\n",
    "\n",
    "                aux+= f'Ysegura({x2},{y2})'\n",
    "\n",
    "            aux=aux.replace('Y', '', 1)\n",
    "\n",
    "            formulas+=[f'uno({x},{y})Ybandera({x1},{y1})>'+aux]\n",
    "    \n",
    "    \n",
    "    return formulas"
   ]
  },
  {
   "cell_type": "code",
   "execution_count": 297,
   "id": "4dd184e0",
   "metadata": {},
   "outputs": [],
   "source": [
    "def casillas_seguras(self):\n",
    "    size=self.size\n",
    "    formulas=[]\n",
    "    casillas=[(x, y) for x in range(size) for y in range(size)]\n",
    "    for cas in casillas:\n",
    "        casillas_ad = adyacentes(cas, size)\n",
    "        x, y = cas\n",
    "        for c in casillas_ad:\n",
    "            x1, y1=c\n",
    "            aux=\"\"\n",
    "            dif= [p for p in casillas_ad if p!=c]\n",
    "            for c1 in dif:\n",
    "                x2, y2=c1\n",
    "                formulas+=[f'uno({x},{y})Ybandera({x1},{y1})>segura({x2},{y2})']\n",
    "    \n",
    "    \n",
    "    return formulas"
   ]
  },
  {
   "cell_type": "code",
   "execution_count": 298,
   "id": "a09b1ffa",
   "metadata": {},
   "outputs": [],
   "source": [
    "def marcar_banderita(self):\n",
    "    size=self.size\n",
    "    formulas=[]\n",
    "    casillas=[(x, y) for x in range(size) for y in range(size)]\n",
    "    for cas in casillas:\n",
    "        casillas_ad = adyacentes(cas, size)\n",
    "        x, y = cas\n",
    "        \n",
    "        for c in casillas_ad:\n",
    "            x1, y1=c\n",
    "            aux=\"\"\n",
    "            dif= [p for p in casillas_ad if p!=c]\n",
    "            for c1 in dif:\n",
    "                x2, y2=c1\n",
    "\n",
    "                aux+= f'Ysegura({x2},{y2})'\n",
    "\n",
    "\n",
    "            formulas+=[f'uno({x},{y})'+aux+f'>bandera({x1},{y1})']\n",
    "    \n",
    "    \n",
    "    return formulas"
   ]
  },
  {
   "cell_type": "code",
   "execution_count": 301,
   "id": "4dc24711",
   "metadata": {
    "scrolled": true
   },
   "outputs": [],
   "source": [
    "setattr(Agente, 'marcar_banderita', marcar_banderita)\n",
    "setattr(Agente, 'casillas_seguras', casillas_seguras)\n",
    "\n",
    "agente=Agente()\n",
    "formulas = agente.casillas_seguras()\n",
    "formulas += agente.marcar_banderita()"
   ]
  },
  {
   "cell_type": "code",
   "execution_count": 302,
   "id": "6fbcd71b",
   "metadata": {},
   "outputs": [],
   "source": [
    "height=8\n",
    "width=8\n",
    "mines=5\n",
    "juego = Buscaminas(height, width, mines)\n",
    "\n",
    "juego.transicion([rd.randint(0, 4), rd.randint(0, 4)])\n",
    "initi=[]\n",
    "initi2=[]\n",
    "for casilla in juego.casillas:\n",
    "    x, y= casilla\n",
    "    if juego.tablero[x][y].seleccionado:\n",
    "        initi2.append(casilla)\n",
    "        if juego.tablero[x][y].valor ==1:\n",
    "            initi.append(casilla)\n",
    "\n",
    "for casilla in initi:\n",
    "    x, y=casilla\n",
    "    formulas+=[f'uno({x},{y})']\n",
    "for casilla in initi2:\n",
    "    x, y=casilla\n",
    "    formulas+=[f'segura({x},{y})']\n",
    "agente.base = LPQuery(formulas)"
   ]
  },
  {
   "cell_type": "code",
   "execution_count": 317,
   "id": "6257f727",
   "metadata": {
    "scrolled": false
   },
   "outputs": [
    {
     "name": "stdout",
     "output_type": "stream",
     "text": [
      "Objetivo: segura(3,7)\n",
      "\n",
      "Datos: ['uno(2,5)', 'uno(2,6)', 'uno(2,7)', 'uno(3,5)', 'uno(4,0)', 'uno(4,1)', 'uno(4,5)', 'uno(5,4)', 'uno(5,5)', 'segura(0,0)', 'segura(0,1)', 'segura(0,2)', 'segura(0,3)', 'segura(0,4)', 'segura(0,5)', 'segura(0,6)', 'segura(0,7)', 'segura(1,0)', 'segura(1,1)', 'segura(1,2)', 'segura(1,3)', 'segura(1,4)', 'segura(1,5)', 'segura(1,6)', 'segura(1,7)', 'segura(2,0)', 'segura(2,1)', 'segura(2,2)', 'segura(2,3)', 'segura(2,4)', 'segura(2,5)', 'segura(2,6)', 'segura(2,7)', 'segura(3,0)', 'segura(3,1)', 'segura(3,2)', 'segura(3,3)', 'segura(3,4)', 'segura(3,5)', 'segura(4,0)', 'segura(4,1)', 'segura(4,2)', 'segura(4,3)', 'segura(4,4)', 'segura(4,5)', 'segura(5,1)', 'segura(5,2)', 'segura(5,3)', 'segura(5,4)', 'segura(5,5)', 'bandera(3,6)']\n",
      "\n",
      "Reglas aplicables para el objetivo:\n",
      "uno(2,6) Y bandera(2,7) > segura(3,7)\n",
      "uno(2,6) Y bandera(1,5) > segura(3,7)\n",
      "uno(2,6) Y bandera(1,6) > segura(3,7)\n",
      "uno(2,6) Y bandera(3,6) > segura(3,7)\n",
      "uno(2,6) Y bandera(1,7) > segura(3,7)\n",
      "uno(2,6) Y bandera(2,5) > segura(3,7)\n",
      "uno(2,6) Y bandera(3,5) > segura(3,7)\n",
      "uno(2,7) Y bandera(2,6) > segura(3,7)\n",
      "uno(2,7) Y bandera(1,6) > segura(3,7)\n",
      "uno(2,7) Y bandera(3,6) > segura(3,7)\n",
      "uno(2,7) Y bandera(1,7) > segura(3,7)\n",
      "uno(3,6) Y bandera(2,7) > segura(3,7)\n",
      "uno(3,6) Y bandera(4,7) > segura(3,7)\n",
      "uno(3,6) Y bandera(2,6) > segura(3,7)\n",
      "uno(3,6) Y bandera(4,6) > segura(3,7)\n",
      "uno(3,6) Y bandera(4,5) > segura(3,7)\n",
      "uno(3,6) Y bandera(2,5) > segura(3,7)\n",
      "uno(3,6) Y bandera(3,5) > segura(3,7)\n",
      "uno(4,6) Y bandera(4,7) > segura(3,7)\n",
      "uno(4,6) Y bandera(5,5) > segura(3,7)\n",
      "uno(4,6) Y bandera(5,6) > segura(3,7)\n",
      "uno(4,6) Y bandera(4,5) > segura(3,7)\n",
      "uno(4,6) Y bandera(5,7) > segura(3,7)\n",
      "uno(4,6) Y bandera(3,6) > segura(3,7)\n",
      "uno(4,6) Y bandera(3,5) > segura(3,7)\n",
      "uno(4,7) Y bandera(4,6) > segura(3,7)\n",
      "uno(4,7) Y bandera(5,6) > segura(3,7)\n",
      "uno(4,7) Y bandera(5,7) > segura(3,7)\n",
      "uno(4,7) Y bandera(3,6) > segura(3,7)\n",
      "Resultado de la consulta: True\n"
     ]
    }
   ],
   "source": [
    "\n",
    "objetivo = 'segura(3,7)'\n",
    "print(\"Objetivo:\", objetivo)\n",
    "print()\n",
    "print(\"Datos:\", agente.base.datos)\n",
    "print()\n",
    "print(\"Reglas aplicables para el objetivo:\")\n",
    "reglas_objeto = agente.base.reglas_aplicables(objetivo)\n",
    "for r in reglas_objeto:\n",
    "    print(' Y '.join(r.cuerpo), \">\", r.cabeza)\n",
    "res = ASK(objetivo, 'success', agente.base)\n",
    "\n",
    "print(\"Resultado de la consulta:\", res)"
   ]
  },
  {
   "cell_type": "code",
   "execution_count": 312,
   "id": "0491c095",
   "metadata": {},
   "outputs": [
    {
     "data": {
      "text/plain": [
       "<Axes:>"
      ]
     },
     "execution_count": 312,
     "metadata": {},
     "output_type": "execute_result"
    },
    {
     "data": {
      "image/png": "[encoded data removed]",
      "text/plain": [
       "<Figure size 240x240 with 1 Axes>"
      ]
     },
     "metadata": {},
     "output_type": "display_data"
    }
   ],
   "source": [
    "juego.agregar_quitar_bandera([3, 6])\n",
    "agente.base.TELL(f'bandera(3,6)')\n",
    "juego.pintar_casilla()"
   ]
  },
  {
   "cell_type": "code",
   "execution_count": 320,
   "id": "31665cc8",
   "metadata": {},
   "outputs": [],
   "source": [
    "def juega(juego):\n",
    "    setattr(Agente, 'size', width)\n",
    "    agente = Agente()\n",
    "    formulas = agente.casillas_seguras()\n",
    "    formulas += agente.marcar_banderita()\n",
    "\n",
    "\n",
    "\n",
    "    juego.transicion([rd.randint(0, 4), rd.randint(0, 4)])\n",
    "    initi=[]\n",
    "    initi2=[]\n",
    "    for casilla in juego.casillas:\n",
    "        x, y= casilla\n",
    "        if juego.tablero[x][y].seleccionado:\n",
    "            initi2.append(casilla)\n",
    "            if juego.tablero[x][y].valor ==1:\n",
    "                initi.append(casilla)\n",
    "\n",
    "    for casilla in initi:\n",
    "        x, y=casilla\n",
    "        formulas+=[f'uno({x},{y})']\n",
    "    for casilla in initi2:\n",
    "        x, y=casilla\n",
    "        formulas+=[f'segura({x},{y})']\n",
    "\n",
    "    agente.base = LPQuery(formulas)\n",
    "    juego.pintar_casilla()\n",
    "    action=True\n",
    "    while juego.juego_activo and action==True:\n",
    "        action=False\n",
    "        for casilla in juego.casillas:\n",
    "            #clear_output(wait=True)\n",
    "            x, y = casilla\n",
    "            print(f\"Mirando casilla: ({x},{y})\")\n",
    "            objetivo=f'bandera({x},{y})'\n",
    "            res = ASK(objetivo, 'success', agente.base)\n",
    "            if res:\n",
    "                print(\"Casilla es bandera\")\n",
    "                if juego.flags[x][y]:\n",
    "                    continue\n",
    "                else:\n",
    "                    \n",
    "                    juego.agregar_quitar_bandera([x, y])\n",
    "                    action =True\n",
    "                    agente.base.TELL(f'bandera({x},{y})')\n",
    "                    juego.pintar_casilla()\n",
    "                    plt.show()\n",
    "                    time.sleep(1)\n",
    "            objetivo=f'segura({x},{y})'\n",
    "            res = ASK(objetivo, 'success', agente.base)\n",
    "            if res:\n",
    "                print(\"Casilla es segura\")\n",
    "                if juego.tablero[x][y].seleccionado:\n",
    "                    continue\n",
    "                else:\n",
    "                    print(\"Se le dijo a la base que es segura!\")\n",
    "                    juego.transicion([x, y])\n",
    "                    action =True\n",
    "                    agente.base.TELL(f'segura({x},{y})')\n",
    "                    juego.pintar_casilla()\n",
    "                    time.sleep(1)\n",
    "                    plt.show()\n",
    "        \n",
    "                    \n",
    "                \n",
    "            \n",
    "\n",
    "        \n",
    "        "
   ]
  },
  {
   "cell_type": "code",
   "execution_count": 323,
   "id": "3b753287",
   "metadata": {
    "scrolled": false
   },
   "outputs": [
    {
     "name": "stdout",
     "output_type": "stream",
     "text": [
      "Mirando casilla: (0,0)\n",
      "Casilla es segura\n",
      "Mirando casilla: (0,1)\n",
      "Casilla es segura\n",
      "Mirando casilla: (0,2)\n"
     ]
    },
    {
     "ename": "KeyboardInterrupt",
     "evalue": "",
     "output_type": "error",
     "traceback": [
      "\u001b[1;31m---------------------------------------------------------------------------\u001b[0m",
      "\u001b[1;31mKeyboardInterrupt\u001b[0m                         Traceback (most recent call last)",
      "\u001b[1;32m~\\AppData\\Local\\Temp\\ipykernel_11880\\3317248882.py\u001b[0m in \u001b[0;36m<module>\u001b[1;34m\u001b[0m\n\u001b[0;32m      3\u001b[0m \u001b[0mmines\u001b[0m\u001b[1;33m=\u001b[0m\u001b[1;36m4\u001b[0m\u001b[1;33m\u001b[0m\u001b[1;33m\u001b[0m\u001b[0m\n\u001b[0;32m      4\u001b[0m \u001b[0mjuego\u001b[0m \u001b[1;33m=\u001b[0m \u001b[0mBuscaminas\u001b[0m\u001b[1;33m(\u001b[0m\u001b[0mheight\u001b[0m\u001b[1;33m,\u001b[0m \u001b[0mwidth\u001b[0m\u001b[1;33m,\u001b[0m \u001b[0mmines\u001b[0m\u001b[1;33m)\u001b[0m\u001b[1;33m\u001b[0m\u001b[1;33m\u001b[0m\u001b[0m\n\u001b[1;32m----> 5\u001b[1;33m \u001b[0mg\u001b[0m\u001b[1;33m=\u001b[0m\u001b[0mjuega\u001b[0m\u001b[1;33m(\u001b[0m\u001b[0mjuego\u001b[0m\u001b[1;33m)\u001b[0m\u001b[1;33m\u001b[0m\u001b[1;33m\u001b[0m\u001b[0m\n\u001b[0m",
      "\u001b[1;32m~\\AppData\\Local\\Temp\\ipykernel_11880\\4063216366.py\u001b[0m in \u001b[0;36mjuega\u001b[1;34m(juego)\u001b[0m\n\u001b[0;32m     34\u001b[0m             \u001b[0mprint\u001b[0m\u001b[1;33m(\u001b[0m\u001b[1;34mf\"Mirando casilla: ({x},{y})\"\u001b[0m\u001b[1;33m)\u001b[0m\u001b[1;33m\u001b[0m\u001b[1;33m\u001b[0m\u001b[0m\n\u001b[0;32m     35\u001b[0m             \u001b[0mobjetivo\u001b[0m\u001b[1;33m=\u001b[0m\u001b[1;34mf'bandera({x},{y})'\u001b[0m\u001b[1;33m\u001b[0m\u001b[1;33m\u001b[0m\u001b[0m\n\u001b[1;32m---> 36\u001b[1;33m             \u001b[0mres\u001b[0m \u001b[1;33m=\u001b[0m \u001b[0mASK\u001b[0m\u001b[1;33m(\u001b[0m\u001b[0mobjetivo\u001b[0m\u001b[1;33m,\u001b[0m \u001b[1;34m'success'\u001b[0m\u001b[1;33m,\u001b[0m \u001b[0magente\u001b[0m\u001b[1;33m.\u001b[0m\u001b[0mbase\u001b[0m\u001b[1;33m)\u001b[0m\u001b[1;33m\u001b[0m\u001b[1;33m\u001b[0m\u001b[0m\n\u001b[0m\u001b[0;32m     37\u001b[0m             \u001b[1;32mif\u001b[0m \u001b[0mres\u001b[0m\u001b[1;33m:\u001b[0m\u001b[1;33m\u001b[0m\u001b[1;33m\u001b[0m\u001b[0m\n\u001b[0;32m     38\u001b[0m                 \u001b[0mprint\u001b[0m\u001b[1;33m(\u001b[0m\u001b[1;34m\"Casilla es bandera\"\u001b[0m\u001b[1;33m)\u001b[0m\u001b[1;33m\u001b[0m\u001b[1;33m\u001b[0m\u001b[0m\n",
      "\u001b[1;32m~\\OneDrive - Universidad del rosario\\TAREAS\\Inteligencia artificial\\Proyecto_2_MineSweeper\\logica.py\u001b[0m in \u001b[0;36mASK\u001b[1;34m(objetivo, valor, base)\u001b[0m\n\u001b[0;32m    172\u001b[0m \u001b[1;33m\u001b[0m\u001b[0m\n\u001b[0;32m    173\u001b[0m \u001b[1;32mdef\u001b[0m \u001b[0mASK\u001b[0m\u001b[1;33m(\u001b[0m\u001b[0mobjetivo\u001b[0m\u001b[1;33m,\u001b[0m \u001b[0mvalor\u001b[0m\u001b[1;33m,\u001b[0m \u001b[0mbase\u001b[0m\u001b[1;33m)\u001b[0m\u001b[1;33m:\u001b[0m\u001b[1;33m\u001b[0m\u001b[1;33m\u001b[0m\u001b[0m\n\u001b[1;32m--> 174\u001b[1;33m     \u001b[0mask\u001b[0m \u001b[1;33m=\u001b[0m \u001b[0mand_or_graph_search\u001b[0m\u001b[1;33m(\u001b[0m\u001b[0mobjetivo\u001b[0m\u001b[1;33m,\u001b[0m \u001b[0mbase\u001b[0m\u001b[1;33m)\u001b[0m\u001b[1;33m\u001b[0m\u001b[1;33m\u001b[0m\u001b[0m\n\u001b[0m\u001b[0;32m    175\u001b[0m     \u001b[1;32mreturn\u001b[0m \u001b[1;33m(\u001b[0m\u001b[0mask\u001b[0m \u001b[1;33m==\u001b[0m \u001b[0mvalor\u001b[0m\u001b[1;33m)\u001b[0m\u001b[1;33m\u001b[0m\u001b[1;33m\u001b[0m\u001b[0m\n",
      "\u001b[1;32m~\\OneDrive - Universidad del rosario\\TAREAS\\Inteligencia artificial\\Proyecto_2_MineSweeper\\logica.py\u001b[0m in \u001b[0;36mand_or_graph_search\u001b[1;34m(objetivo, base)\u001b[0m\n\u001b[0;32m    148\u001b[0m \u001b[1;33m\u001b[0m\u001b[0m\n\u001b[0;32m    149\u001b[0m \u001b[1;32mdef\u001b[0m \u001b[0mand_or_graph_search\u001b[0m\u001b[1;33m(\u001b[0m\u001b[0mobjetivo\u001b[0m\u001b[1;33m,\u001b[0m \u001b[0mbase\u001b[0m\u001b[1;33m)\u001b[0m\u001b[1;33m:\u001b[0m\u001b[1;33m\u001b[0m\u001b[1;33m\u001b[0m\u001b[0m\n\u001b[1;32m--> 150\u001b[1;33m     \u001b[1;32mreturn\u001b[0m \u001b[0mor_search\u001b[0m\u001b[1;33m(\u001b[0m\u001b[0mobjetivo\u001b[0m\u001b[1;33m,\u001b[0m \u001b[0mbase\u001b[0m\u001b[1;33m,\u001b[0m \u001b[1;33m[\u001b[0m\u001b[1;33m]\u001b[0m\u001b[1;33m)\u001b[0m\u001b[1;33m\u001b[0m\u001b[1;33m\u001b[0m\u001b[0m\n\u001b[0m\u001b[0;32m    151\u001b[0m \u001b[1;33m\u001b[0m\u001b[0m\n\u001b[0;32m    152\u001b[0m \u001b[1;32mdef\u001b[0m \u001b[0mor_search\u001b[0m\u001b[1;33m(\u001b[0m\u001b[0mhead\u001b[0m\u001b[1;33m,\u001b[0m \u001b[0mbase\u001b[0m\u001b[1;33m,\u001b[0m \u001b[0mcamino\u001b[0m\u001b[1;33m)\u001b[0m\u001b[1;33m:\u001b[0m\u001b[1;33m\u001b[0m\u001b[1;33m\u001b[0m\u001b[0m\n",
      "\u001b[1;32m~\\OneDrive - Universidad del rosario\\TAREAS\\Inteligencia artificial\\Proyecto_2_MineSweeper\\logica.py\u001b[0m in \u001b[0;36mor_search\u001b[1;34m(head, base, camino)\u001b[0m\n\u001b[0;32m    159\u001b[0m         \u001b[1;32mreturn\u001b[0m \u001b[1;34m'failure'\u001b[0m\u001b[1;33m\u001b[0m\u001b[1;33m\u001b[0m\u001b[0m\n\u001b[0;32m    160\u001b[0m     \u001b[1;32mfor\u001b[0m \u001b[0mregla\u001b[0m \u001b[1;32min\u001b[0m \u001b[0mreglas\u001b[0m\u001b[1;33m:\u001b[0m\u001b[1;33m\u001b[0m\u001b[1;33m\u001b[0m\u001b[0m\n\u001b[1;32m--> 161\u001b[1;33m         \u001b[0mplan\u001b[0m \u001b[1;33m=\u001b[0m \u001b[0mand_search\u001b[0m\u001b[1;33m(\u001b[0m\u001b[0mregla\u001b[0m\u001b[1;33m.\u001b[0m\u001b[0mcuerpo\u001b[0m\u001b[1;33m,\u001b[0m \u001b[0mbase\u001b[0m\u001b[1;33m,\u001b[0m \u001b[1;33m[\u001b[0m\u001b[0mhead\u001b[0m\u001b[1;33m]\u001b[0m \u001b[1;33m+\u001b[0m \u001b[0mcamino\u001b[0m\u001b[1;33m)\u001b[0m\u001b[1;33m\u001b[0m\u001b[1;33m\u001b[0m\u001b[0m\n\u001b[0m\u001b[0;32m    162\u001b[0m         \u001b[1;32mif\u001b[0m \u001b[0mplan\u001b[0m \u001b[1;33m!=\u001b[0m \u001b[1;34m'failure'\u001b[0m\u001b[1;33m:\u001b[0m\u001b[1;33m\u001b[0m\u001b[1;33m\u001b[0m\u001b[0m\n\u001b[0;32m    163\u001b[0m             \u001b[1;32mreturn\u001b[0m \u001b[1;34m'success'\u001b[0m\u001b[1;33m\u001b[0m\u001b[1;33m\u001b[0m\u001b[0m\n",
      "\u001b[1;32m~\\OneDrive - Universidad del rosario\\TAREAS\\Inteligencia artificial\\Proyecto_2_MineSweeper\\logica.py\u001b[0m in \u001b[0;36mand_search\u001b[1;34m(literales, base, camino)\u001b[0m\n\u001b[0;32m    166\u001b[0m \u001b[1;32mdef\u001b[0m \u001b[0mand_search\u001b[0m\u001b[1;33m(\u001b[0m\u001b[0mliterales\u001b[0m\u001b[1;33m,\u001b[0m \u001b[0mbase\u001b[0m\u001b[1;33m,\u001b[0m \u001b[0mcamino\u001b[0m\u001b[1;33m)\u001b[0m\u001b[1;33m:\u001b[0m\u001b[1;33m\u001b[0m\u001b[1;33m\u001b[0m\u001b[0m\n\u001b[0;32m    167\u001b[0m     \u001b[1;32mfor\u001b[0m \u001b[0mliteral\u001b[0m \u001b[1;32min\u001b[0m \u001b[0mliterales\u001b[0m\u001b[1;33m:\u001b[0m\u001b[1;33m\u001b[0m\u001b[1;33m\u001b[0m\u001b[0m\n\u001b[1;32m--> 168\u001b[1;33m         \u001b[0mplan\u001b[0m \u001b[1;33m=\u001b[0m \u001b[0mor_search\u001b[0m\u001b[1;33m(\u001b[0m\u001b[0mliteral\u001b[0m\u001b[1;33m,\u001b[0m \u001b[0mbase\u001b[0m\u001b[1;33m,\u001b[0m \u001b[0mcamino\u001b[0m\u001b[1;33m)\u001b[0m\u001b[1;33m\u001b[0m\u001b[1;33m\u001b[0m\u001b[0m\n\u001b[0m\u001b[0;32m    169\u001b[0m         \u001b[1;32mif\u001b[0m \u001b[0mplan\u001b[0m \u001b[1;33m==\u001b[0m \u001b[1;34m'failure'\u001b[0m\u001b[1;33m:\u001b[0m\u001b[1;33m\u001b[0m\u001b[1;33m\u001b[0m\u001b[0m\n\u001b[0;32m    170\u001b[0m             \u001b[1;32mreturn\u001b[0m \u001b[1;34m'failure'\u001b[0m\u001b[1;33m\u001b[0m\u001b[1;33m\u001b[0m\u001b[0m\n",
      "\u001b[1;32m~\\OneDrive - Universidad del rosario\\TAREAS\\Inteligencia artificial\\Proyecto_2_MineSweeper\\logica.py\u001b[0m in \u001b[0;36mor_search\u001b[1;34m(head, base, camino)\u001b[0m\n\u001b[0;32m    159\u001b[0m         \u001b[1;32mreturn\u001b[0m \u001b[1;34m'failure'\u001b[0m\u001b[1;33m\u001b[0m\u001b[1;33m\u001b[0m\u001b[0m\n\u001b[0;32m    160\u001b[0m     \u001b[1;32mfor\u001b[0m \u001b[0mregla\u001b[0m \u001b[1;32min\u001b[0m \u001b[0mreglas\u001b[0m\u001b[1;33m:\u001b[0m\u001b[1;33m\u001b[0m\u001b[1;33m\u001b[0m\u001b[0m\n\u001b[1;32m--> 161\u001b[1;33m         \u001b[0mplan\u001b[0m \u001b[1;33m=\u001b[0m \u001b[0mand_search\u001b[0m\u001b[1;33m(\u001b[0m\u001b[0mregla\u001b[0m\u001b[1;33m.\u001b[0m\u001b[0mcuerpo\u001b[0m\u001b[1;33m,\u001b[0m \u001b[0mbase\u001b[0m\u001b[1;33m,\u001b[0m \u001b[1;33m[\u001b[0m\u001b[0mhead\u001b[0m\u001b[1;33m]\u001b[0m \u001b[1;33m+\u001b[0m \u001b[0mcamino\u001b[0m\u001b[1;33m)\u001b[0m\u001b[1;33m\u001b[0m\u001b[1;33m\u001b[0m\u001b[0m\n\u001b[0m\u001b[0;32m    162\u001b[0m         \u001b[1;32mif\u001b[0m \u001b[0mplan\u001b[0m \u001b[1;33m!=\u001b[0m \u001b[1;34m'failure'\u001b[0m\u001b[1;33m:\u001b[0m\u001b[1;33m\u001b[0m\u001b[1;33m\u001b[0m\u001b[0m\n\u001b[0;32m    163\u001b[0m             \u001b[1;32mreturn\u001b[0m \u001b[1;34m'success'\u001b[0m\u001b[1;33m\u001b[0m\u001b[1;33m\u001b[0m\u001b[0m\n",
      "\u001b[1;32m~\\OneDrive - Universidad del rosario\\TAREAS\\Inteligencia artificial\\Proyecto_2_MineSweeper\\logica.py\u001b[0m in \u001b[0;36mand_search\u001b[1;34m(literales, base, camino)\u001b[0m\n\u001b[0;32m    166\u001b[0m \u001b[1;32mdef\u001b[0m \u001b[0mand_search\u001b[0m\u001b[1;33m(\u001b[0m\u001b[0mliterales\u001b[0m\u001b[1;33m,\u001b[0m \u001b[0mbase\u001b[0m\u001b[1;33m,\u001b[0m \u001b[0mcamino\u001b[0m\u001b[1;33m)\u001b[0m\u001b[1;33m:\u001b[0m\u001b[1;33m\u001b[0m\u001b[1;33m\u001b[0m\u001b[0m\n\u001b[0;32m    167\u001b[0m     \u001b[1;32mfor\u001b[0m \u001b[0mliteral\u001b[0m \u001b[1;32min\u001b[0m \u001b[0mliterales\u001b[0m\u001b[1;33m:\u001b[0m\u001b[1;33m\u001b[0m\u001b[1;33m\u001b[0m\u001b[0m\n\u001b[1;32m--> 168\u001b[1;33m         \u001b[0mplan\u001b[0m \u001b[1;33m=\u001b[0m \u001b[0mor_search\u001b[0m\u001b[1;33m(\u001b[0m\u001b[0mliteral\u001b[0m\u001b[1;33m,\u001b[0m \u001b[0mbase\u001b[0m\u001b[1;33m,\u001b[0m \u001b[0mcamino\u001b[0m\u001b[1;33m)\u001b[0m\u001b[1;33m\u001b[0m\u001b[1;33m\u001b[0m\u001b[0m\n\u001b[0m\u001b[0;32m    169\u001b[0m         \u001b[1;32mif\u001b[0m \u001b[0mplan\u001b[0m \u001b[1;33m==\u001b[0m \u001b[1;34m'failure'\u001b[0m\u001b[1;33m:\u001b[0m\u001b[1;33m\u001b[0m\u001b[1;33m\u001b[0m\u001b[0m\n\u001b[0;32m    170\u001b[0m             \u001b[1;32mreturn\u001b[0m \u001b[1;34m'failure'\u001b[0m\u001b[1;33m\u001b[0m\u001b[1;33m\u001b[0m\u001b[0m\n",
      "\u001b[1;32m~\\OneDrive - Universidad del rosario\\TAREAS\\Inteligencia artificial\\Proyecto_2_MineSweeper\\logica.py\u001b[0m in \u001b[0;36mor_search\u001b[1;34m(head, base, camino)\u001b[0m\n\u001b[0;32m    159\u001b[0m         \u001b[1;32mreturn\u001b[0m \u001b[1;34m'failure'\u001b[0m\u001b[1;33m\u001b[0m\u001b[1;33m\u001b[0m\u001b[0m\n\u001b[0;32m    160\u001b[0m     \u001b[1;32mfor\u001b[0m \u001b[0mregla\u001b[0m \u001b[1;32min\u001b[0m \u001b[0mreglas\u001b[0m\u001b[1;33m:\u001b[0m\u001b[1;33m\u001b[0m\u001b[1;33m\u001b[0m\u001b[0m\n\u001b[1;32m--> 161\u001b[1;33m         \u001b[0mplan\u001b[0m \u001b[1;33m=\u001b[0m \u001b[0mand_search\u001b[0m\u001b[1;33m(\u001b[0m\u001b[0mregla\u001b[0m\u001b[1;33m.\u001b[0m\u001b[0mcuerpo\u001b[0m\u001b[1;33m,\u001b[0m \u001b[0mbase\u001b[0m\u001b[1;33m,\u001b[0m \u001b[1;33m[\u001b[0m\u001b[0mhead\u001b[0m\u001b[1;33m]\u001b[0m \u001b[1;33m+\u001b[0m \u001b[0mcamino\u001b[0m\u001b[1;33m)\u001b[0m\u001b[1;33m\u001b[0m\u001b[1;33m\u001b[0m\u001b[0m\n\u001b[0m\u001b[0;32m    162\u001b[0m         \u001b[1;32mif\u001b[0m \u001b[0mplan\u001b[0m \u001b[1;33m!=\u001b[0m \u001b[1;34m'failure'\u001b[0m\u001b[1;33m:\u001b[0m\u001b[1;33m\u001b[0m\u001b[1;33m\u001b[0m\u001b[0m\n\u001b[0;32m    163\u001b[0m             \u001b[1;32mreturn\u001b[0m \u001b[1;34m'success'\u001b[0m\u001b[1;33m\u001b[0m\u001b[1;33m\u001b[0m\u001b[0m\n",
      "\u001b[1;32m~\\OneDrive - Universidad del rosario\\TAREAS\\Inteligencia artificial\\Proyecto_2_MineSweeper\\logica.py\u001b[0m in \u001b[0;36mand_search\u001b[1;34m(literales, base, camino)\u001b[0m\n\u001b[0;32m    166\u001b[0m \u001b[1;32mdef\u001b[0m \u001b[0mand_search\u001b[0m\u001b[1;33m(\u001b[0m\u001b[0mliterales\u001b[0m\u001b[1;33m,\u001b[0m \u001b[0mbase\u001b[0m\u001b[1;33m,\u001b[0m \u001b[0mcamino\u001b[0m\u001b[1;33m)\u001b[0m\u001b[1;33m:\u001b[0m\u001b[1;33m\u001b[0m\u001b[1;33m\u001b[0m\u001b[0m\n\u001b[0;32m    167\u001b[0m     \u001b[1;32mfor\u001b[0m \u001b[0mliteral\u001b[0m \u001b[1;32min\u001b[0m \u001b[0mliterales\u001b[0m\u001b[1;33m:\u001b[0m\u001b[1;33m\u001b[0m\u001b[1;33m\u001b[0m\u001b[0m\n\u001b[1;32m--> 168\u001b[1;33m         \u001b[0mplan\u001b[0m \u001b[1;33m=\u001b[0m \u001b[0mor_search\u001b[0m\u001b[1;33m(\u001b[0m\u001b[0mliteral\u001b[0m\u001b[1;33m,\u001b[0m \u001b[0mbase\u001b[0m\u001b[1;33m,\u001b[0m \u001b[0mcamino\u001b[0m\u001b[1;33m)\u001b[0m\u001b[1;33m\u001b[0m\u001b[1;33m\u001b[0m\u001b[0m\n\u001b[0m\u001b[0;32m    169\u001b[0m         \u001b[1;32mif\u001b[0m \u001b[0mplan\u001b[0m \u001b[1;33m==\u001b[0m \u001b[1;34m'failure'\u001b[0m\u001b[1;33m:\u001b[0m\u001b[1;33m\u001b[0m\u001b[1;33m\u001b[0m\u001b[0m\n\u001b[0;32m    170\u001b[0m             \u001b[1;32mreturn\u001b[0m \u001b[1;34m'failure'\u001b[0m\u001b[1;33m\u001b[0m\u001b[1;33m\u001b[0m\u001b[0m\n",
      "\u001b[1;32m~\\OneDrive - Universidad del rosario\\TAREAS\\Inteligencia artificial\\Proyecto_2_MineSweeper\\logica.py\u001b[0m in \u001b[0;36mor_search\u001b[1;34m(head, base, camino)\u001b[0m\n\u001b[0;32m    159\u001b[0m         \u001b[1;32mreturn\u001b[0m \u001b[1;34m'failure'\u001b[0m\u001b[1;33m\u001b[0m\u001b[1;33m\u001b[0m\u001b[0m\n\u001b[0;32m    160\u001b[0m     \u001b[1;32mfor\u001b[0m \u001b[0mregla\u001b[0m \u001b[1;32min\u001b[0m \u001b[0mreglas\u001b[0m\u001b[1;33m:\u001b[0m\u001b[1;33m\u001b[0m\u001b[1;33m\u001b[0m\u001b[0m\n\u001b[1;32m--> 161\u001b[1;33m         \u001b[0mplan\u001b[0m \u001b[1;33m=\u001b[0m \u001b[0mand_search\u001b[0m\u001b[1;33m(\u001b[0m\u001b[0mregla\u001b[0m\u001b[1;33m.\u001b[0m\u001b[0mcuerpo\u001b[0m\u001b[1;33m,\u001b[0m \u001b[0mbase\u001b[0m\u001b[1;33m,\u001b[0m \u001b[1;33m[\u001b[0m\u001b[0mhead\u001b[0m\u001b[1;33m]\u001b[0m \u001b[1;33m+\u001b[0m \u001b[0mcamino\u001b[0m\u001b[1;33m)\u001b[0m\u001b[1;33m\u001b[0m\u001b[1;33m\u001b[0m\u001b[0m\n\u001b[0m\u001b[0;32m    162\u001b[0m         \u001b[1;32mif\u001b[0m \u001b[0mplan\u001b[0m \u001b[1;33m!=\u001b[0m \u001b[1;34m'failure'\u001b[0m\u001b[1;33m:\u001b[0m\u001b[1;33m\u001b[0m\u001b[1;33m\u001b[0m\u001b[0m\n\u001b[0;32m    163\u001b[0m             \u001b[1;32mreturn\u001b[0m \u001b[1;34m'success'\u001b[0m\u001b[1;33m\u001b[0m\u001b[1;33m\u001b[0m\u001b[0m\n",
      "\u001b[1;32m~\\OneDrive - Universidad del rosario\\TAREAS\\Inteligencia artificial\\Proyecto_2_MineSweeper\\logica.py\u001b[0m in \u001b[0;36mand_search\u001b[1;34m(literales, base, camino)\u001b[0m\n\u001b[0;32m    166\u001b[0m \u001b[1;32mdef\u001b[0m \u001b[0mand_search\u001b[0m\u001b[1;33m(\u001b[0m\u001b[0mliterales\u001b[0m\u001b[1;33m,\u001b[0m \u001b[0mbase\u001b[0m\u001b[1;33m,\u001b[0m \u001b[0mcamino\u001b[0m\u001b[1;33m)\u001b[0m\u001b[1;33m:\u001b[0m\u001b[1;33m\u001b[0m\u001b[1;33m\u001b[0m\u001b[0m\n\u001b[0;32m    167\u001b[0m     \u001b[1;32mfor\u001b[0m \u001b[0mliteral\u001b[0m \u001b[1;32min\u001b[0m \u001b[0mliterales\u001b[0m\u001b[1;33m:\u001b[0m\u001b[1;33m\u001b[0m\u001b[1;33m\u001b[0m\u001b[0m\n\u001b[1;32m--> 168\u001b[1;33m         \u001b[0mplan\u001b[0m \u001b[1;33m=\u001b[0m \u001b[0mor_search\u001b[0m\u001b[1;33m(\u001b[0m\u001b[0mliteral\u001b[0m\u001b[1;33m,\u001b[0m \u001b[0mbase\u001b[0m\u001b[1;33m,\u001b[0m \u001b[0mcamino\u001b[0m\u001b[1;33m)\u001b[0m\u001b[1;33m\u001b[0m\u001b[1;33m\u001b[0m\u001b[0m\n\u001b[0m\u001b[0;32m    169\u001b[0m         \u001b[1;32mif\u001b[0m \u001b[0mplan\u001b[0m \u001b[1;33m==\u001b[0m \u001b[1;34m'failure'\u001b[0m\u001b[1;33m:\u001b[0m\u001b[1;33m\u001b[0m\u001b[1;33m\u001b[0m\u001b[0m\n\u001b[0;32m    170\u001b[0m             \u001b[1;32mreturn\u001b[0m \u001b[1;34m'failure'\u001b[0m\u001b[1;33m\u001b[0m\u001b[1;33m\u001b[0m\u001b[0m\n",
      "\u001b[1;32m~\\OneDrive - Universidad del rosario\\TAREAS\\Inteligencia artificial\\Proyecto_2_MineSweeper\\logica.py\u001b[0m in \u001b[0;36mor_search\u001b[1;34m(head, base, camino)\u001b[0m\n\u001b[0;32m    159\u001b[0m         \u001b[1;32mreturn\u001b[0m \u001b[1;34m'failure'\u001b[0m\u001b[1;33m\u001b[0m\u001b[1;33m\u001b[0m\u001b[0m\n\u001b[0;32m    160\u001b[0m     \u001b[1;32mfor\u001b[0m \u001b[0mregla\u001b[0m \u001b[1;32min\u001b[0m \u001b[0mreglas\u001b[0m\u001b[1;33m:\u001b[0m\u001b[1;33m\u001b[0m\u001b[1;33m\u001b[0m\u001b[0m\n\u001b[1;32m--> 161\u001b[1;33m         \u001b[0mplan\u001b[0m \u001b[1;33m=\u001b[0m \u001b[0mand_search\u001b[0m\u001b[1;33m(\u001b[0m\u001b[0mregla\u001b[0m\u001b[1;33m.\u001b[0m\u001b[0mcuerpo\u001b[0m\u001b[1;33m,\u001b[0m \u001b[0mbase\u001b[0m\u001b[1;33m,\u001b[0m \u001b[1;33m[\u001b[0m\u001b[0mhead\u001b[0m\u001b[1;33m]\u001b[0m \u001b[1;33m+\u001b[0m \u001b[0mcamino\u001b[0m\u001b[1;33m)\u001b[0m\u001b[1;33m\u001b[0m\u001b[1;33m\u001b[0m\u001b[0m\n\u001b[0m\u001b[0;32m    162\u001b[0m         \u001b[1;32mif\u001b[0m \u001b[0mplan\u001b[0m \u001b[1;33m!=\u001b[0m \u001b[1;34m'failure'\u001b[0m\u001b[1;33m:\u001b[0m\u001b[1;33m\u001b[0m\u001b[1;33m\u001b[0m\u001b[0m\n\u001b[0;32m    163\u001b[0m             \u001b[1;32mreturn\u001b[0m \u001b[1;34m'success'\u001b[0m\u001b[1;33m\u001b[0m\u001b[1;33m\u001b[0m\u001b[0m\n",
      "\u001b[1;32m~\\OneDrive - Universidad del rosario\\TAREAS\\Inteligencia artificial\\Proyecto_2_MineSweeper\\logica.py\u001b[0m in \u001b[0;36mand_search\u001b[1;34m(literales, base, camino)\u001b[0m\n\u001b[0;32m    166\u001b[0m \u001b[1;32mdef\u001b[0m \u001b[0mand_search\u001b[0m\u001b[1;33m(\u001b[0m\u001b[0mliterales\u001b[0m\u001b[1;33m,\u001b[0m \u001b[0mbase\u001b[0m\u001b[1;33m,\u001b[0m \u001b[0mcamino\u001b[0m\u001b[1;33m)\u001b[0m\u001b[1;33m:\u001b[0m\u001b[1;33m\u001b[0m\u001b[1;33m\u001b[0m\u001b[0m\n\u001b[0;32m    167\u001b[0m     \u001b[1;32mfor\u001b[0m \u001b[0mliteral\u001b[0m \u001b[1;32min\u001b[0m \u001b[0mliterales\u001b[0m\u001b[1;33m:\u001b[0m\u001b[1;33m\u001b[0m\u001b[1;33m\u001b[0m\u001b[0m\n\u001b[1;32m--> 168\u001b[1;33m         \u001b[0mplan\u001b[0m \u001b[1;33m=\u001b[0m \u001b[0mor_search\u001b[0m\u001b[1;33m(\u001b[0m\u001b[0mliteral\u001b[0m\u001b[1;33m,\u001b[0m \u001b[0mbase\u001b[0m\u001b[1;33m,\u001b[0m \u001b[0mcamino\u001b[0m\u001b[1;33m)\u001b[0m\u001b[1;33m\u001b[0m\u001b[1;33m\u001b[0m\u001b[0m\n\u001b[0m\u001b[0;32m    169\u001b[0m         \u001b[1;32mif\u001b[0m \u001b[0mplan\u001b[0m \u001b[1;33m==\u001b[0m \u001b[1;34m'failure'\u001b[0m\u001b[1;33m:\u001b[0m\u001b[1;33m\u001b[0m\u001b[1;33m\u001b[0m\u001b[0m\n\u001b[0;32m    170\u001b[0m             \u001b[1;32mreturn\u001b[0m \u001b[1;34m'failure'\u001b[0m\u001b[1;33m\u001b[0m\u001b[1;33m\u001b[0m\u001b[0m\n",
      "\u001b[1;32m~\\OneDrive - Universidad del rosario\\TAREAS\\Inteligencia artificial\\Proyecto_2_MineSweeper\\logica.py\u001b[0m in \u001b[0;36mor_search\u001b[1;34m(head, base, camino)\u001b[0m\n\u001b[0;32m    159\u001b[0m         \u001b[1;32mreturn\u001b[0m \u001b[1;34m'failure'\u001b[0m\u001b[1;33m\u001b[0m\u001b[1;33m\u001b[0m\u001b[0m\n\u001b[0;32m    160\u001b[0m     \u001b[1;32mfor\u001b[0m \u001b[0mregla\u001b[0m \u001b[1;32min\u001b[0m \u001b[0mreglas\u001b[0m\u001b[1;33m:\u001b[0m\u001b[1;33m\u001b[0m\u001b[1;33m\u001b[0m\u001b[0m\n\u001b[1;32m--> 161\u001b[1;33m         \u001b[0mplan\u001b[0m \u001b[1;33m=\u001b[0m \u001b[0mand_search\u001b[0m\u001b[1;33m(\u001b[0m\u001b[0mregla\u001b[0m\u001b[1;33m.\u001b[0m\u001b[0mcuerpo\u001b[0m\u001b[1;33m,\u001b[0m \u001b[0mbase\u001b[0m\u001b[1;33m,\u001b[0m \u001b[1;33m[\u001b[0m\u001b[0mhead\u001b[0m\u001b[1;33m]\u001b[0m \u001b[1;33m+\u001b[0m \u001b[0mcamino\u001b[0m\u001b[1;33m)\u001b[0m\u001b[1;33m\u001b[0m\u001b[1;33m\u001b[0m\u001b[0m\n\u001b[0m\u001b[0;32m    162\u001b[0m         \u001b[1;32mif\u001b[0m \u001b[0mplan\u001b[0m \u001b[1;33m!=\u001b[0m \u001b[1;34m'failure'\u001b[0m\u001b[1;33m:\u001b[0m\u001b[1;33m\u001b[0m\u001b[1;33m\u001b[0m\u001b[0m\n\u001b[0;32m    163\u001b[0m             \u001b[1;32mreturn\u001b[0m \u001b[1;34m'success'\u001b[0m\u001b[1;33m\u001b[0m\u001b[1;33m\u001b[0m\u001b[0m\n",
      "\u001b[1;32m~\\OneDrive - Universidad del rosario\\TAREAS\\Inteligencia artificial\\Proyecto_2_MineSweeper\\logica.py\u001b[0m in \u001b[0;36mand_search\u001b[1;34m(literales, base, camino)\u001b[0m\n\u001b[0;32m    166\u001b[0m \u001b[1;32mdef\u001b[0m \u001b[0mand_search\u001b[0m\u001b[1;33m(\u001b[0m\u001b[0mliterales\u001b[0m\u001b[1;33m,\u001b[0m \u001b[0mbase\u001b[0m\u001b[1;33m,\u001b[0m \u001b[0mcamino\u001b[0m\u001b[1;33m)\u001b[0m\u001b[1;33m:\u001b[0m\u001b[1;33m\u001b[0m\u001b[1;33m\u001b[0m\u001b[0m\n\u001b[0;32m    167\u001b[0m     \u001b[1;32mfor\u001b[0m \u001b[0mliteral\u001b[0m \u001b[1;32min\u001b[0m \u001b[0mliterales\u001b[0m\u001b[1;33m:\u001b[0m\u001b[1;33m\u001b[0m\u001b[1;33m\u001b[0m\u001b[0m\n\u001b[1;32m--> 168\u001b[1;33m         \u001b[0mplan\u001b[0m \u001b[1;33m=\u001b[0m \u001b[0mor_search\u001b[0m\u001b[1;33m(\u001b[0m\u001b[0mliteral\u001b[0m\u001b[1;33m,\u001b[0m \u001b[0mbase\u001b[0m\u001b[1;33m,\u001b[0m \u001b[0mcamino\u001b[0m\u001b[1;33m)\u001b[0m\u001b[1;33m\u001b[0m\u001b[1;33m\u001b[0m\u001b[0m\n\u001b[0m\u001b[0;32m    169\u001b[0m         \u001b[1;32mif\u001b[0m \u001b[0mplan\u001b[0m \u001b[1;33m==\u001b[0m \u001b[1;34m'failure'\u001b[0m\u001b[1;33m:\u001b[0m\u001b[1;33m\u001b[0m\u001b[1;33m\u001b[0m\u001b[0m\n\u001b[0;32m    170\u001b[0m             \u001b[1;32mreturn\u001b[0m \u001b[1;34m'failure'\u001b[0m\u001b[1;33m\u001b[0m\u001b[1;33m\u001b[0m\u001b[0m\n",
      "\u001b[1;32m~\\OneDrive - Universidad del rosario\\TAREAS\\Inteligencia artificial\\Proyecto_2_MineSweeper\\logica.py\u001b[0m in \u001b[0;36mor_search\u001b[1;34m(head, base, camino)\u001b[0m\n\u001b[0;32m    159\u001b[0m         \u001b[1;32mreturn\u001b[0m \u001b[1;34m'failure'\u001b[0m\u001b[1;33m\u001b[0m\u001b[1;33m\u001b[0m\u001b[0m\n\u001b[0;32m    160\u001b[0m     \u001b[1;32mfor\u001b[0m \u001b[0mregla\u001b[0m \u001b[1;32min\u001b[0m \u001b[0mreglas\u001b[0m\u001b[1;33m:\u001b[0m\u001b[1;33m\u001b[0m\u001b[1;33m\u001b[0m\u001b[0m\n\u001b[1;32m--> 161\u001b[1;33m         \u001b[0mplan\u001b[0m \u001b[1;33m=\u001b[0m \u001b[0mand_search\u001b[0m\u001b[1;33m(\u001b[0m\u001b[0mregla\u001b[0m\u001b[1;33m.\u001b[0m\u001b[0mcuerpo\u001b[0m\u001b[1;33m,\u001b[0m \u001b[0mbase\u001b[0m\u001b[1;33m,\u001b[0m \u001b[1;33m[\u001b[0m\u001b[0mhead\u001b[0m\u001b[1;33m]\u001b[0m \u001b[1;33m+\u001b[0m \u001b[0mcamino\u001b[0m\u001b[1;33m)\u001b[0m\u001b[1;33m\u001b[0m\u001b[1;33m\u001b[0m\u001b[0m\n\u001b[0m\u001b[0;32m    162\u001b[0m         \u001b[1;32mif\u001b[0m \u001b[0mplan\u001b[0m \u001b[1;33m!=\u001b[0m \u001b[1;34m'failure'\u001b[0m\u001b[1;33m:\u001b[0m\u001b[1;33m\u001b[0m\u001b[1;33m\u001b[0m\u001b[0m\n\u001b[0;32m    163\u001b[0m             \u001b[1;32mreturn\u001b[0m \u001b[1;34m'success'\u001b[0m\u001b[1;33m\u001b[0m\u001b[1;33m\u001b[0m\u001b[0m\n",
      "\u001b[1;32m~\\OneDrive - Universidad del rosario\\TAREAS\\Inteligencia artificial\\Proyecto_2_MineSweeper\\logica.py\u001b[0m in \u001b[0;36mand_search\u001b[1;34m(literales, base, camino)\u001b[0m\n\u001b[0;32m    166\u001b[0m \u001b[1;32mdef\u001b[0m \u001b[0mand_search\u001b[0m\u001b[1;33m(\u001b[0m\u001b[0mliterales\u001b[0m\u001b[1;33m,\u001b[0m \u001b[0mbase\u001b[0m\u001b[1;33m,\u001b[0m \u001b[0mcamino\u001b[0m\u001b[1;33m)\u001b[0m\u001b[1;33m:\u001b[0m\u001b[1;33m\u001b[0m\u001b[1;33m\u001b[0m\u001b[0m\n\u001b[0;32m    167\u001b[0m     \u001b[1;32mfor\u001b[0m \u001b[0mliteral\u001b[0m \u001b[1;32min\u001b[0m \u001b[0mliterales\u001b[0m\u001b[1;33m:\u001b[0m\u001b[1;33m\u001b[0m\u001b[1;33m\u001b[0m\u001b[0m\n\u001b[1;32m--> 168\u001b[1;33m         \u001b[0mplan\u001b[0m \u001b[1;33m=\u001b[0m \u001b[0mor_search\u001b[0m\u001b[1;33m(\u001b[0m\u001b[0mliteral\u001b[0m\u001b[1;33m,\u001b[0m \u001b[0mbase\u001b[0m\u001b[1;33m,\u001b[0m \u001b[0mcamino\u001b[0m\u001b[1;33m)\u001b[0m\u001b[1;33m\u001b[0m\u001b[1;33m\u001b[0m\u001b[0m\n\u001b[0m\u001b[0;32m    169\u001b[0m         \u001b[1;32mif\u001b[0m \u001b[0mplan\u001b[0m \u001b[1;33m==\u001b[0m \u001b[1;34m'failure'\u001b[0m\u001b[1;33m:\u001b[0m\u001b[1;33m\u001b[0m\u001b[1;33m\u001b[0m\u001b[0m\n\u001b[0;32m    170\u001b[0m             \u001b[1;32mreturn\u001b[0m \u001b[1;34m'failure'\u001b[0m\u001b[1;33m\u001b[0m\u001b[1;33m\u001b[0m\u001b[0m\n",
      "\u001b[1;32m~\\OneDrive - Universidad del rosario\\TAREAS\\Inteligencia artificial\\Proyecto_2_MineSweeper\\logica.py\u001b[0m in \u001b[0;36mor_search\u001b[1;34m(head, base, camino)\u001b[0m\n\u001b[0;32m    159\u001b[0m         \u001b[1;32mreturn\u001b[0m \u001b[1;34m'failure'\u001b[0m\u001b[1;33m\u001b[0m\u001b[1;33m\u001b[0m\u001b[0m\n\u001b[0;32m    160\u001b[0m     \u001b[1;32mfor\u001b[0m \u001b[0mregla\u001b[0m \u001b[1;32min\u001b[0m \u001b[0mreglas\u001b[0m\u001b[1;33m:\u001b[0m\u001b[1;33m\u001b[0m\u001b[1;33m\u001b[0m\u001b[0m\n\u001b[1;32m--> 161\u001b[1;33m         \u001b[0mplan\u001b[0m \u001b[1;33m=\u001b[0m \u001b[0mand_search\u001b[0m\u001b[1;33m(\u001b[0m\u001b[0mregla\u001b[0m\u001b[1;33m.\u001b[0m\u001b[0mcuerpo\u001b[0m\u001b[1;33m,\u001b[0m \u001b[0mbase\u001b[0m\u001b[1;33m,\u001b[0m \u001b[1;33m[\u001b[0m\u001b[0mhead\u001b[0m\u001b[1;33m]\u001b[0m \u001b[1;33m+\u001b[0m \u001b[0mcamino\u001b[0m\u001b[1;33m)\u001b[0m\u001b[1;33m\u001b[0m\u001b[1;33m\u001b[0m\u001b[0m\n\u001b[0m\u001b[0;32m    162\u001b[0m         \u001b[1;32mif\u001b[0m \u001b[0mplan\u001b[0m \u001b[1;33m!=\u001b[0m \u001b[1;34m'failure'\u001b[0m\u001b[1;33m:\u001b[0m\u001b[1;33m\u001b[0m\u001b[1;33m\u001b[0m\u001b[0m\n\u001b[0;32m    163\u001b[0m             \u001b[1;32mreturn\u001b[0m \u001b[1;34m'success'\u001b[0m\u001b[1;33m\u001b[0m\u001b[1;33m\u001b[0m\u001b[0m\n",
      "\u001b[1;32m~\\OneDrive - Universidad del rosario\\TAREAS\\Inteligencia artificial\\Proyecto_2_MineSweeper\\logica.py\u001b[0m in \u001b[0;36mand_search\u001b[1;34m(literales, base, camino)\u001b[0m\n\u001b[0;32m    166\u001b[0m \u001b[1;32mdef\u001b[0m \u001b[0mand_search\u001b[0m\u001b[1;33m(\u001b[0m\u001b[0mliterales\u001b[0m\u001b[1;33m,\u001b[0m \u001b[0mbase\u001b[0m\u001b[1;33m,\u001b[0m \u001b[0mcamino\u001b[0m\u001b[1;33m)\u001b[0m\u001b[1;33m:\u001b[0m\u001b[1;33m\u001b[0m\u001b[1;33m\u001b[0m\u001b[0m\n\u001b[0;32m    167\u001b[0m     \u001b[1;32mfor\u001b[0m \u001b[0mliteral\u001b[0m \u001b[1;32min\u001b[0m \u001b[0mliterales\u001b[0m\u001b[1;33m:\u001b[0m\u001b[1;33m\u001b[0m\u001b[1;33m\u001b[0m\u001b[0m\n\u001b[1;32m--> 168\u001b[1;33m         \u001b[0mplan\u001b[0m \u001b[1;33m=\u001b[0m \u001b[0mor_search\u001b[0m\u001b[1;33m(\u001b[0m\u001b[0mliteral\u001b[0m\u001b[1;33m,\u001b[0m \u001b[0mbase\u001b[0m\u001b[1;33m,\u001b[0m \u001b[0mcamino\u001b[0m\u001b[1;33m)\u001b[0m\u001b[1;33m\u001b[0m\u001b[1;33m\u001b[0m\u001b[0m\n\u001b[0m\u001b[0;32m    169\u001b[0m         \u001b[1;32mif\u001b[0m \u001b[0mplan\u001b[0m \u001b[1;33m==\u001b[0m \u001b[1;34m'failure'\u001b[0m\u001b[1;33m:\u001b[0m\u001b[1;33m\u001b[0m\u001b[1;33m\u001b[0m\u001b[0m\n\u001b[0;32m    170\u001b[0m             \u001b[1;32mreturn\u001b[0m \u001b[1;34m'failure'\u001b[0m\u001b[1;33m\u001b[0m\u001b[1;33m\u001b[0m\u001b[0m\n",
      "\u001b[1;32m~\\OneDrive - Universidad del rosario\\TAREAS\\Inteligencia artificial\\Proyecto_2_MineSweeper\\logica.py\u001b[0m in \u001b[0;36mor_search\u001b[1;34m(head, base, camino)\u001b[0m\n\u001b[0;32m    159\u001b[0m         \u001b[1;32mreturn\u001b[0m \u001b[1;34m'failure'\u001b[0m\u001b[1;33m\u001b[0m\u001b[1;33m\u001b[0m\u001b[0m\n\u001b[0;32m    160\u001b[0m     \u001b[1;32mfor\u001b[0m \u001b[0mregla\u001b[0m \u001b[1;32min\u001b[0m \u001b[0mreglas\u001b[0m\u001b[1;33m:\u001b[0m\u001b[1;33m\u001b[0m\u001b[1;33m\u001b[0m\u001b[0m\n\u001b[1;32m--> 161\u001b[1;33m         \u001b[0mplan\u001b[0m \u001b[1;33m=\u001b[0m \u001b[0mand_search\u001b[0m\u001b[1;33m(\u001b[0m\u001b[0mregla\u001b[0m\u001b[1;33m.\u001b[0m\u001b[0mcuerpo\u001b[0m\u001b[1;33m,\u001b[0m \u001b[0mbase\u001b[0m\u001b[1;33m,\u001b[0m \u001b[1;33m[\u001b[0m\u001b[0mhead\u001b[0m\u001b[1;33m]\u001b[0m \u001b[1;33m+\u001b[0m \u001b[0mcamino\u001b[0m\u001b[1;33m)\u001b[0m\u001b[1;33m\u001b[0m\u001b[1;33m\u001b[0m\u001b[0m\n\u001b[0m\u001b[0;32m    162\u001b[0m         \u001b[1;32mif\u001b[0m \u001b[0mplan\u001b[0m \u001b[1;33m!=\u001b[0m \u001b[1;34m'failure'\u001b[0m\u001b[1;33m:\u001b[0m\u001b[1;33m\u001b[0m\u001b[1;33m\u001b[0m\u001b[0m\n\u001b[0;32m    163\u001b[0m             \u001b[1;32mreturn\u001b[0m \u001b[1;34m'success'\u001b[0m\u001b[1;33m\u001b[0m\u001b[1;33m\u001b[0m\u001b[0m\n",
      "\u001b[1;32m~\\OneDrive - Universidad del rosario\\TAREAS\\Inteligencia artificial\\Proyecto_2_MineSweeper\\logica.py\u001b[0m in \u001b[0;36mand_search\u001b[1;34m(literales, base, camino)\u001b[0m\n\u001b[0;32m    166\u001b[0m \u001b[1;32mdef\u001b[0m \u001b[0mand_search\u001b[0m\u001b[1;33m(\u001b[0m\u001b[0mliterales\u001b[0m\u001b[1;33m,\u001b[0m \u001b[0mbase\u001b[0m\u001b[1;33m,\u001b[0m \u001b[0mcamino\u001b[0m\u001b[1;33m)\u001b[0m\u001b[1;33m:\u001b[0m\u001b[1;33m\u001b[0m\u001b[1;33m\u001b[0m\u001b[0m\n\u001b[0;32m    167\u001b[0m     \u001b[1;32mfor\u001b[0m \u001b[0mliteral\u001b[0m \u001b[1;32min\u001b[0m \u001b[0mliterales\u001b[0m\u001b[1;33m:\u001b[0m\u001b[1;33m\u001b[0m\u001b[1;33m\u001b[0m\u001b[0m\n\u001b[1;32m--> 168\u001b[1;33m         \u001b[0mplan\u001b[0m \u001b[1;33m=\u001b[0m \u001b[0mor_search\u001b[0m\u001b[1;33m(\u001b[0m\u001b[0mliteral\u001b[0m\u001b[1;33m,\u001b[0m \u001b[0mbase\u001b[0m\u001b[1;33m,\u001b[0m \u001b[0mcamino\u001b[0m\u001b[1;33m)\u001b[0m\u001b[1;33m\u001b[0m\u001b[1;33m\u001b[0m\u001b[0m\n\u001b[0m\u001b[0;32m    169\u001b[0m         \u001b[1;32mif\u001b[0m \u001b[0mplan\u001b[0m \u001b[1;33m==\u001b[0m \u001b[1;34m'failure'\u001b[0m\u001b[1;33m:\u001b[0m\u001b[1;33m\u001b[0m\u001b[1;33m\u001b[0m\u001b[0m\n\u001b[0;32m    170\u001b[0m             \u001b[1;32mreturn\u001b[0m \u001b[1;34m'failure'\u001b[0m\u001b[1;33m\u001b[0m\u001b[1;33m\u001b[0m\u001b[0m\n",
      "\u001b[1;32m~\\OneDrive - Universidad del rosario\\TAREAS\\Inteligencia artificial\\Proyecto_2_MineSweeper\\logica.py\u001b[0m in \u001b[0;36mor_search\u001b[1;34m(head, base, camino)\u001b[0m\n\u001b[0;32m    159\u001b[0m         \u001b[1;32mreturn\u001b[0m \u001b[1;34m'failure'\u001b[0m\u001b[1;33m\u001b[0m\u001b[1;33m\u001b[0m\u001b[0m\n\u001b[0;32m    160\u001b[0m     \u001b[1;32mfor\u001b[0m \u001b[0mregla\u001b[0m \u001b[1;32min\u001b[0m \u001b[0mreglas\u001b[0m\u001b[1;33m:\u001b[0m\u001b[1;33m\u001b[0m\u001b[1;33m\u001b[0m\u001b[0m\n\u001b[1;32m--> 161\u001b[1;33m         \u001b[0mplan\u001b[0m \u001b[1;33m=\u001b[0m \u001b[0mand_search\u001b[0m\u001b[1;33m(\u001b[0m\u001b[0mregla\u001b[0m\u001b[1;33m.\u001b[0m\u001b[0mcuerpo\u001b[0m\u001b[1;33m,\u001b[0m \u001b[0mbase\u001b[0m\u001b[1;33m,\u001b[0m \u001b[1;33m[\u001b[0m\u001b[0mhead\u001b[0m\u001b[1;33m]\u001b[0m \u001b[1;33m+\u001b[0m \u001b[0mcamino\u001b[0m\u001b[1;33m)\u001b[0m\u001b[1;33m\u001b[0m\u001b[1;33m\u001b[0m\u001b[0m\n\u001b[0m\u001b[0;32m    162\u001b[0m         \u001b[1;32mif\u001b[0m \u001b[0mplan\u001b[0m \u001b[1;33m!=\u001b[0m \u001b[1;34m'failure'\u001b[0m\u001b[1;33m:\u001b[0m\u001b[1;33m\u001b[0m\u001b[1;33m\u001b[0m\u001b[0m\n\u001b[0;32m    163\u001b[0m             \u001b[1;32mreturn\u001b[0m \u001b[1;34m'success'\u001b[0m\u001b[1;33m\u001b[0m\u001b[1;33m\u001b[0m\u001b[0m\n",
      "\u001b[1;32m~\\OneDrive - Universidad del rosario\\TAREAS\\Inteligencia artificial\\Proyecto_2_MineSweeper\\logica.py\u001b[0m in \u001b[0;36mand_search\u001b[1;34m(literales, base, camino)\u001b[0m\n\u001b[0;32m    166\u001b[0m \u001b[1;32mdef\u001b[0m \u001b[0mand_search\u001b[0m\u001b[1;33m(\u001b[0m\u001b[0mliterales\u001b[0m\u001b[1;33m,\u001b[0m \u001b[0mbase\u001b[0m\u001b[1;33m,\u001b[0m \u001b[0mcamino\u001b[0m\u001b[1;33m)\u001b[0m\u001b[1;33m:\u001b[0m\u001b[1;33m\u001b[0m\u001b[1;33m\u001b[0m\u001b[0m\n\u001b[0;32m    167\u001b[0m     \u001b[1;32mfor\u001b[0m \u001b[0mliteral\u001b[0m \u001b[1;32min\u001b[0m \u001b[0mliterales\u001b[0m\u001b[1;33m:\u001b[0m\u001b[1;33m\u001b[0m\u001b[1;33m\u001b[0m\u001b[0m\n\u001b[1;32m--> 168\u001b[1;33m         \u001b[0mplan\u001b[0m \u001b[1;33m=\u001b[0m \u001b[0mor_search\u001b[0m\u001b[1;33m(\u001b[0m\u001b[0mliteral\u001b[0m\u001b[1;33m,\u001b[0m \u001b[0mbase\u001b[0m\u001b[1;33m,\u001b[0m \u001b[0mcamino\u001b[0m\u001b[1;33m)\u001b[0m\u001b[1;33m\u001b[0m\u001b[1;33m\u001b[0m\u001b[0m\n\u001b[0m\u001b[0;32m    169\u001b[0m         \u001b[1;32mif\u001b[0m \u001b[0mplan\u001b[0m \u001b[1;33m==\u001b[0m \u001b[1;34m'failure'\u001b[0m\u001b[1;33m:\u001b[0m\u001b[1;33m\u001b[0m\u001b[1;33m\u001b[0m\u001b[0m\n\u001b[0;32m    170\u001b[0m             \u001b[1;32mreturn\u001b[0m \u001b[1;34m'failure'\u001b[0m\u001b[1;33m\u001b[0m\u001b[1;33m\u001b[0m\u001b[0m\n",
      "\u001b[1;32m~\\OneDrive - Universidad del rosario\\TAREAS\\Inteligencia artificial\\Proyecto_2_MineSweeper\\logica.py\u001b[0m in \u001b[0;36mor_search\u001b[1;34m(head, base, camino)\u001b[0m\n\u001b[0;32m    155\u001b[0m     \u001b[1;32melif\u001b[0m \u001b[0mhead\u001b[0m \u001b[1;32min\u001b[0m \u001b[0mcamino\u001b[0m\u001b[1;33m:\u001b[0m\u001b[1;33m\u001b[0m\u001b[1;33m\u001b[0m\u001b[0m\n\u001b[0;32m    156\u001b[0m         \u001b[1;32mreturn\u001b[0m \u001b[1;34m'failure'\u001b[0m\u001b[1;33m\u001b[0m\u001b[1;33m\u001b[0m\u001b[0m\n\u001b[1;32m--> 157\u001b[1;33m     \u001b[0mreglas\u001b[0m \u001b[1;33m=\u001b[0m \u001b[0mbase\u001b[0m\u001b[1;33m.\u001b[0m\u001b[0mreglas_aplicables\u001b[0m\u001b[1;33m(\u001b[0m\u001b[0mhead\u001b[0m\u001b[1;33m)\u001b[0m\u001b[1;33m\u001b[0m\u001b[1;33m\u001b[0m\u001b[0m\n\u001b[0m\u001b[0;32m    158\u001b[0m     \u001b[1;32mif\u001b[0m \u001b[1;32mnot\u001b[0m \u001b[0mreglas\u001b[0m\u001b[1;33m:\u001b[0m\u001b[1;33m\u001b[0m\u001b[1;33m\u001b[0m\u001b[0m\n\u001b[0;32m    159\u001b[0m         \u001b[1;32mreturn\u001b[0m \u001b[1;34m'failure'\u001b[0m\u001b[1;33m\u001b[0m\u001b[1;33m\u001b[0m\u001b[0m\n",
      "\u001b[1;32m~\\OneDrive - Universidad del rosario\\TAREAS\\Inteligencia artificial\\Proyecto_2_MineSweeper\\logica.py\u001b[0m in \u001b[0;36mreglas_aplicables\u001b[1;34m(self, head)\u001b[0m\n\u001b[0;32m     94\u001b[0m \u001b[1;33m\u001b[0m\u001b[0m\n\u001b[0;32m     95\u001b[0m     \u001b[1;32mdef\u001b[0m \u001b[0mreglas_aplicables\u001b[0m\u001b[1;33m(\u001b[0m\u001b[0mself\u001b[0m\u001b[1;33m,\u001b[0m \u001b[0mhead\u001b[0m\u001b[1;33m)\u001b[0m\u001b[1;33m:\u001b[0m\u001b[1;33m\u001b[0m\u001b[1;33m\u001b[0m\u001b[0m\n\u001b[1;32m---> 96\u001b[1;33m         \u001b[1;32mreturn\u001b[0m \u001b[1;33m[\u001b[0m\u001b[0mr\u001b[0m \u001b[1;32mfor\u001b[0m \u001b[0mr\u001b[0m \u001b[1;32min\u001b[0m \u001b[0mself\u001b[0m\u001b[1;33m.\u001b[0m\u001b[0mreglas\u001b[0m \u001b[1;32mif\u001b[0m \u001b[0mr\u001b[0m\u001b[1;33m.\u001b[0m\u001b[0mcabeza\u001b[0m \u001b[1;33m==\u001b[0m \u001b[0mhead\u001b[0m\u001b[1;33m]\u001b[0m\u001b[1;33m\u001b[0m\u001b[1;33m\u001b[0m\u001b[0m\n\u001b[0m\u001b[0;32m     97\u001b[0m \u001b[1;33m\u001b[0m\u001b[0m\n\u001b[0;32m     98\u001b[0m     \u001b[1;32mdef\u001b[0m \u001b[0mtest_objetivo\u001b[0m\u001b[1;33m(\u001b[0m\u001b[0mself\u001b[0m\u001b[1;33m,\u001b[0m \u001b[0mliteral\u001b[0m\u001b[1;33m)\u001b[0m\u001b[1;33m:\u001b[0m\u001b[1;33m\u001b[0m\u001b[1;33m\u001b[0m\u001b[0m\n",
      "\u001b[1;32m~\\OneDrive - Universidad del rosario\\TAREAS\\Inteligencia artificial\\Proyecto_2_MineSweeper\\logica.py\u001b[0m in \u001b[0;36m<listcomp>\u001b[1;34m(.0)\u001b[0m\n\u001b[0;32m     94\u001b[0m \u001b[1;33m\u001b[0m\u001b[0m\n\u001b[0;32m     95\u001b[0m     \u001b[1;32mdef\u001b[0m \u001b[0mreglas_aplicables\u001b[0m\u001b[1;33m(\u001b[0m\u001b[0mself\u001b[0m\u001b[1;33m,\u001b[0m \u001b[0mhead\u001b[0m\u001b[1;33m)\u001b[0m\u001b[1;33m:\u001b[0m\u001b[1;33m\u001b[0m\u001b[1;33m\u001b[0m\u001b[0m\n\u001b[1;32m---> 96\u001b[1;33m         \u001b[1;32mreturn\u001b[0m \u001b[1;33m[\u001b[0m\u001b[0mr\u001b[0m \u001b[1;32mfor\u001b[0m \u001b[0mr\u001b[0m \u001b[1;32min\u001b[0m \u001b[0mself\u001b[0m\u001b[1;33m.\u001b[0m\u001b[0mreglas\u001b[0m \u001b[1;32mif\u001b[0m \u001b[0mr\u001b[0m\u001b[1;33m.\u001b[0m\u001b[0mcabeza\u001b[0m \u001b[1;33m==\u001b[0m \u001b[0mhead\u001b[0m\u001b[1;33m]\u001b[0m\u001b[1;33m\u001b[0m\u001b[1;33m\u001b[0m\u001b[0m\n\u001b[0m\u001b[0;32m     97\u001b[0m \u001b[1;33m\u001b[0m\u001b[0m\n\u001b[0;32m     98\u001b[0m     \u001b[1;32mdef\u001b[0m \u001b[0mtest_objetivo\u001b[0m\u001b[1;33m(\u001b[0m\u001b[0mself\u001b[0m\u001b[1;33m,\u001b[0m \u001b[0mliteral\u001b[0m\u001b[1;33m)\u001b[0m\u001b[1;33m:\u001b[0m\u001b[1;33m\u001b[0m\u001b[1;33m\u001b[0m\u001b[0m\n",
      "\u001b[1;31mKeyboardInterrupt\u001b[0m: "
     ]
    },
    {
     "data": {
      "image/png": "[encoded data removed]",
      "text/plain": [
       "<Figure size 216x216 with 1 Axes>"
      ]
     },
     "metadata": {},
     "output_type": "display_data"
    }
   ],
   "source": [
    "height=7\n",
    "width=7\n",
    "mines=4\n",
    "juego = Buscaminas(height, width, mines)\n",
    "g=juega(juego)"
   ]
  },
  {
   "cell_type": "code",
   "execution_count": 184,
   "id": "e4056e8a",
   "metadata": {},
   "outputs": [
    {
     "name": "stdout",
     "output_type": "stream",
     "text": [
      "None\n"
     ]
    }
   ],
   "source": [
    "\n",
    "print(g)"
   ]
  },
  {
   "cell_type": "code",
   "execution_count": null,
   "id": "7473a8f1",
   "metadata": {},
   "outputs": [],
   "source": []
  }
 ],
 "metadata": {
  "kernelspec": {
   "display_name": "Python 3 (ipykernel)",
   "language": "python",
   "name": "python3"
  },
  "language_info": {
   "codemirror_mode": {
    "name": "ipython",
    "version": 3
   },
   "file_extension": ".py",
   "mimetype": "text/x-python",
   "name": "python",
   "nbconvert_exporter": "python",
   "pygments_lexer": "ipython3",
   "version": "3.7.13"
  }
 },
 "nbformat": 4,
 "nbformat_minor": 5
}
